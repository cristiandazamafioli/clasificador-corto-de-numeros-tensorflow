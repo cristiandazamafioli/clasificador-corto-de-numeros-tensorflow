{
 "cells": [
  {
   "cell_type": "code",
   "execution_count": 8,
   "metadata": {},
   "outputs": [],
   "source": [
    "import numpy as np #importar numpy\n",
    "import tensorflow as tf #importar tensorflow\n",
    "import tflearn # importar tflearn\n",
    "import tflearn.datasets.mnist as mnist # importar mnist que es el dataset de los numeros escritos a mano"
   ]
  },
  {
   "cell_type": "code",
   "execution_count": 9,
   "metadata": {
    "scrolled": true
   },
   "outputs": [
    {
     "name": "stdout",
     "output_type": "stream",
     "text": [
      "Extracting mnist/train-images-idx3-ubyte.gz\n",
      "Extracting mnist/train-labels-idx1-ubyte.gz\n",
      "Extracting mnist/t10k-images-idx3-ubyte.gz\n",
      "Extracting mnist/t10k-labels-idx1-ubyte.gz\n"
     ]
    }
   ],
   "source": [
    "trainX, trainY, testX, testY = mnist.load_data(one_hot=True) # tira el set en 4 variabels x etiquetas y clasificaciones"
   ]
  },
  {
   "cell_type": "code",
   "execution_count": 10,
   "metadata": {},
   "outputs": [],
   "source": [
    "entradas = 784 #numero de entradas matriz de 28x28=784\n",
    "capa1 = 128 # capa 1 con 128 neuronas\n",
    "capa2 = 128  # capa 2 con 128 neuronas\n",
    "clases = 10  # 10 clases"
   ]
  },
  {
   "cell_type": "code",
   "execution_count": 24,
   "metadata": {},
   "outputs": [],
   "source": [
    "# metodo para crear el modelo\n",
    "def crear_modelo():  #\n",
    "    tf.reset_default_graph() # rsetear todo por si aluna grafica o modelo en menoria\n",
    "    red = tflearn.input_data([None, entradas])  #red recibe la estructura, none e pq la entrada es por lotes 100 o 200 o 500..\n",
    "    red = tflearn.fully_connected(red, capa1, activation='ReLU') # conecta la capa a la capa anterior y se coloca la funcion de activacion es ReLU\n",
    "    red = tflearn.fully_connected(red, capa2, activation='ReLU') # hacemos la siguente capa\n",
    "    red = tflearn.fully_connected(red, clases, activation='softmax')# hacemos uncion de capa de salida, se conecta al anterior, funcion de activacion de softmax dice que tan probobable es que perteneza a una clase\n",
    "    red = tflearn.regression(red, optimizer='sgd', learning_rate=0.01, loss='categorical_crossentropy') # el optimizadore es la variable decendente estocastica sgd\n",
    "    modelo = tflearn.DNN(red) # cargamos toda la estructura a la variale modelo\n",
    "    return modelo # regresa el modelo"
   ]
  },
  {
   "cell_type": "code",
   "execution_count": 25,
   "metadata": {},
   "outputs": [],
   "source": [
    "modelo = crear_modelo() # ya tenenemos el modelo creado en la variable modelo"
   ]
  },
  {
   "cell_type": "code",
   "execution_count": 30,
   "metadata": {},
   "outputs": [
    {
     "name": "stdout",
     "output_type": "stream",
     "text": [
      "Training Step: 19799  | total loss: \u001b[1m\u001b[32m0.19651\u001b[0m\u001b[0m | time: 0.667s\n",
      "| SGD | epoch: 200 | loss: 0.19651 - acc: 0.9515 -- iter: 49000/49500\n",
      "Training Step: 19800  | total loss: \u001b[1m\u001b[32m0.19354\u001b[0m\u001b[0m | time: 1.677s\n",
      "| SGD | epoch: 200 | loss: 0.19354 - acc: 0.9518 | val_loss: 0.17518 - val_acc: 0.9505 -- iter: 49500/49500\n",
      "--\n"
     ]
    }
   ],
   "source": [
    "modelo.fit(trainX, trainY, validation_set=0.1, show_metric=True, batch_size=500, n_epoch=100)\n",
    "#la grn ventaja de tflearn no se necesita crear la session, solo se necesita hacer modelo.fit\n",
    "#validation_set=0.1 solo toma el 10% de validacon durante el aprendizaje, show_metric=True para ir viendo que tan bien aprende el algoritmo\n",
    "# batch_size tama;o del lote imagenes en cada iteracion, n_epoch numero de eopocas que tantas vece barems sobrel el set de de datos"
   ]
  },
  {
   "cell_type": "code",
   "execution_count": 31,
   "metadata": {},
   "outputs": [
    {
     "name": "stdout",
     "output_type": "stream",
     "text": [
      "la certeza es de: 0.953\n"
     ]
    }
   ],
   "source": [
    "#ahora lo probamos sobre el set de datos\n",
    "predicciones = np.array(modelo.predict(testX)).argmax(axis=1)  #esto arroja un arreglo para cada uno de los elementos de testX\n",
    "correctas = testY.argmax(axis=1) # esto genera un arreglo para decir cual es la clasificaion correcta\n",
    "certeza = np.mean(predicciones ==correctas, axis=0) # sobre las predicciones cuantas fueron correctas\n",
    "print(\"la certeza es de:\", certeza)"
   ]
  },
  {
   "cell_type": "code",
   "execution_count": null,
   "metadata": {},
   "outputs": [],
   "source": []
  }
 ],
 "metadata": {
  "kernelspec": {
   "display_name": "Python 3",
   "language": "python",
   "name": "python3"
  },
  "language_info": {
   "codemirror_mode": {
    "name": "ipython",
    "version": 3
   },
   "file_extension": ".py",
   "mimetype": "text/x-python",
   "name": "python",
   "nbconvert_exporter": "python",
   "pygments_lexer": "ipython3",
   "version": "3.7.3"
  }
 },
 "nbformat": 4,
 "nbformat_minor": 2
}
